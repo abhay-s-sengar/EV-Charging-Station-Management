{
 "cells": [
  {
   "cell_type": "code",
   "execution_count": 13,
   "metadata": {},
   "outputs": [
    {
     "name": "stdout",
     "output_type": "stream",
     "text": [
      "Added charging session for vehicle EV123: 50.5 kWh\n",
      "Added charging session for vehicle EV123: 30.0 kWh\n",
      "Added charging session for vehicle EV456: 25.0 kWh\n",
      "Added charging session for vehicle EV789: 60.0 kWh\n",
      "Added charging session for vehicle EV789: 40.0 kWh\n",
      "Total energy consumed by EV123: 80.5 kWh\n",
      "\n",
      "Total energy consumed by all vehicles:\n",
      "EV123: 80.5 kWh\n",
      "EV456: 25.0 kWh\n",
      "EV789: 100.0 kWh\n"
     ]
    }
   ],
   "source": [
    "class ChargingStationManager:\n",
    "    def __init__(self):\n",
    "        # Initialize a dictionary to store charging sessions by vehicle ID\n",
    "        self.charging_sessions = {}\n",
    "\n",
    "    def add_charging_session(self, vehicle_id, energy_consumed):\n",
    "        \"\"\"\n",
    "        Adds a new charging session for a vehicle.\n",
    "\n",
    "        :param vehicle_id: Unique ID of the vehicle (string)\n",
    "        :param energy_consumed: Amount of energy consumed in kWh (float)\n",
    "        \"\"\"\n",
    "        if vehicle_id in self.charging_sessions:\n",
    "            # Append the energy consumed to the list of sessions\n",
    "            self.charging_sessions[vehicle_id].append(energy_consumed)\n",
    "        else:\n",
    "            # Create a new entry for the vehicle with the energy consumed\n",
    "            self.charging_sessions[vehicle_id] = [energy_consumed]\n",
    "        print(f\"Added charging session for vehicle {vehicle_id}: {energy_consumed} kWh\")\n",
    "\n",
    "    def get_total_energy_consumed(self, vehicle_id):\n",
    "        \"\"\"\n",
    "        Computes the total energy consumed by a vehicle.\n",
    "\n",
    "        :param vehicle_id: Unique ID of the vehicle (string)\n",
    "        :return: Total energy consumed in kWh (float)\n",
    "        \"\"\"\n",
    "        if vehicle_id in self.charging_sessions:\n",
    "            total_energy = sum(self.charging_sessions[vehicle_id])\n",
    "            return total_energy\n",
    "        else:\n",
    "            print(f\"No charging sessions found for vehicle {vehicle_id}\")\n",
    "            return 0.0\n",
    "\n",
    "    def get_total_energy_consumed_all_vehicles(self):\n",
    "        \"\"\"\n",
    "        Computes the total energy consumed by all vehicles.\n",
    "\n",
    "        :return: Dictionary with vehicle IDs as keys and total energy consumed as values.\n",
    "        \"\"\"\n",
    "        total_energy_by_vehicle = {}\n",
    "        for vehicle_id, sessions in self.charging_sessions.items():\n",
    "            total_energy_by_vehicle[vehicle_id] = sum(sessions)\n",
    "        return total_energy_by_vehicle\n",
    "\n",
    "\n",
    "# Example usage:\n",
    "manager = ChargingStationManager()\n",
    "\n",
    "# Adding charging sessions for vehicles\n",
    "manager.add_charging_session(\"EV123\", 50.5)\n",
    "manager.add_charging_session(\"EV123\", 30.0)\n",
    "manager.add_charging_session(\"EV456\", 25.0)\n",
    "manager.add_charging_session(\"EV789\", 60.0)\n",
    "manager.add_charging_session(\"EV789\", 40.0)\n",
    "\n",
    "# Get total energy consumed for a specific vehicle\n",
    "total_energy_ev123 = manager.get_total_energy_consumed(\"EV123\")\n",
    "print(f\"Total energy consumed by EV123: {total_energy_ev123} kWh\")\n",
    "\n",
    "# Get total energy consumed for all vehicles\n",
    "total_energy_all_vehicles = manager.get_total_energy_consumed_all_vehicles()\n",
    "print(\"\\nTotal energy consumed by all vehicles:\")\n",
    "for vehicle_id, total_energy in total_energy_all_vehicles.items():\n",
    "    print(f\"{vehicle_id}: {total_energy} kWh\")\n"
   ]
  },
  {
   "cell_type": "code",
   "execution_count": null,
   "metadata": {},
   "outputs": [],
   "source": []
  }
 ],
 "metadata": {
  "kernelspec": {
   "display_name": "Python 3",
   "language": "python",
   "name": "python3"
  },
  "language_info": {
   "codemirror_mode": {
    "name": "ipython",
    "version": 3
   },
   "file_extension": ".py",
   "mimetype": "text/x-python",
   "name": "python",
   "nbconvert_exporter": "python",
   "pygments_lexer": "ipython3",
   "version": "3.12.6"
  }
 },
 "nbformat": 4,
 "nbformat_minor": 2
}
